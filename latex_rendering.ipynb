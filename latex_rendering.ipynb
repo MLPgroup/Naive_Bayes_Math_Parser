{
 "cells": [
  {
   "cell_type": "code",
   "execution_count": 1,
   "metadata": {},
   "outputs": [],
   "source": [
    "from flask import Flask, render_template, request, jsonify\n",
    "from flask_socketio import SocketIO"
   ]
  },
  {
   "cell_type": "code",
   "execution_count": 16,
   "metadata": {},
   "outputs": [
    {
     "name": "stdout",
     "output_type": "stream",
     "text": [
      "Client disconnected.\n"
     ]
    },
    {
     "name": "stderr",
     "output_type": "stream",
     "text": [
      "127.0.0.1 - - [2025-02-13 14:12:24] \"GET /socket.io/?EIO=4&transport=websocket&sid=LmPk3iekC8dshYBnAAAA HTTP/1.1\" 200 - 364.081265\n",
      "127.0.0.1 - - [2025-02-13 14:12:26] \"GET / HTTP/1.1\" 200 9267 0.056859\n",
      "127.0.0.1 - - [2025-02-13 14:12:26] \"GET /static/css/mathquill.css HTTP/1.1\" 304 183 0.013071\n",
      "127.0.0.1 - - [2025-02-13 14:12:26] \"GET /static/js/mathquill.js HTTP/1.1\" 304 181 0.002169\n",
      "127.0.0.1 - - [2025-02-13 14:12:26] \"GET /get_disciplines HTTP/1.1\" 200 110 0.001041\n",
      "127.0.0.1 - - [2025-02-13 14:12:26] \"GET /socket.io/?EIO=4&transport=polling&t=s0p13wy5 HTTP/1.1\" 200 276 0.004425\n",
      "127.0.0.1 - - [2025-02-13 14:12:26] \"GET /static/css/font/Symbola.woff2 HTTP/1.1\" 404 331 0.000936\n",
      "127.0.0.1 - - [2025-02-13 14:12:26] \"POST /socket.io/?EIO=4&transport=polling&t=s0p3nu2e&sid=5j5uGGlbONhcE1CfAAAA HTTP/1.1\" 200 195 0.001890\n",
      "127.0.0.1 - - [2025-02-13 14:12:26] \"GET /socket.io/?EIO=4&transport=polling&t=s0p3pgui&sid=5j5uGGlbONhcE1CfAAAA HTTP/1.1\" 200 189 0.000134\n",
      "127.0.0.1 - - [2025-02-13 14:12:26] \"GET /static/css/font/Symbola.woff HTTP/1.1\" 404 331 0.000645\n"
     ]
    },
    {
     "name": "stdout",
     "output_type": "stream",
     "text": [
      "Client connected.\n"
     ]
    },
    {
     "name": "stderr",
     "output_type": "stream",
     "text": [
      "127.0.0.1 - - [2025-02-13 14:12:26] \"GET /socket.io/?EIO=4&transport=polling&t=s0p577jd&sid=5j5uGGlbONhcE1CfAAAA HTTP/1.1\" 200 157 0.000539\n",
      "127.0.0.1 - - [2025-02-13 14:12:26] \"GET /static/css/font/Symbola.ttf HTTP/1.1\" 404 331 0.001066\n",
      "127.0.0.1 - - [2025-02-13 14:12:26] \"GET /socket.io/?EIO=4&transport=polling&t=s0p5wc2u&sid=5j5uGGlbONhcE1CfAAAA HTTP/1.1\" 200 157 0.002358\n",
      "127.0.0.1 - - [2025-02-13 14:12:26] \"GET /static/css/font/Symbola.otf HTTP/1.1\" 404 331 0.000978\n",
      "127.0.0.1 - - [2025-02-13 14:12:32] \"GET /socket.io/?transport=polling&EIO=4&t=1739477551.960258 HTTP/1.1\" 200 276 0.001716\n"
     ]
    },
    {
     "name": "stdout",
     "output_type": "stream",
     "text": [
      "Client connected.\n",
      "Received disciplines data: {'Computer Science': [], 'Economics': [], 'Mathematics': ['Combinatorial_species.html', 'Fredholm_operator.html'], 'Physics': [], 'Electrical Engineering and System Science': ['Fresnel_integral.html'], 'Quantitative Biology': [], 'Quantitative Finance': [], 'Statistics': []}\n",
      "Client disconnected.\n"
     ]
    },
    {
     "name": "stderr",
     "output_type": "stream",
     "text": [
      "127.0.0.1 - - [2025-02-13 14:12:33] \"GET /socket.io/?transport=websocket&EIO=4&sid=s0MBtDJvYeT3Y_7GAAAC&t=1739477552.006606 HTTP/1.1\" 200 208 1.045523\n",
      "<gevent._socket3.socket at 0x7f9a197e3dc0 object, fd=96, family=2, type=1, proto=0>: (from ('127.0.0.1', 52068)) Expected GET method; Got command='\\x88\\x826'; path='`Ê5÷'; raw='\\x88\\x826\\x1f`Ê5÷'\n",
      "127.0.0.1 - - [2025-02-13 14:12:33] \"6\u001f`Ê5÷\" 200 - 0.001387\n",
      "KeyboardInterrupt\n",
      "2025-02-13T20:13:13Z\n"
     ]
    },
    {
     "ename": "KeyboardInterrupt",
     "evalue": "",
     "output_type": "error",
     "traceback": [
      "\u001b[0;31m---------------------------------------------------------------------------\u001b[0m",
      "\u001b[0;31mKeyboardInterrupt\u001b[0m                         Traceback (most recent call last)",
      "Cell \u001b[0;32mIn[16], line 51\u001b[0m\n\u001b[1;32m     47\u001b[0m     \u001b[39mprint\u001b[39m(\u001b[39m\"\u001b[39m\u001b[39mClient disconnected.\u001b[39m\u001b[39m\"\u001b[39m)\n\u001b[1;32m     49\u001b[0m \u001b[39mif\u001b[39;00m \u001b[39m__name__\u001b[39m \u001b[39m==\u001b[39m \u001b[39m\"\u001b[39m\u001b[39m__main__\u001b[39m\u001b[39m\"\u001b[39m:\n\u001b[1;32m     50\u001b[0m     \u001b[39m# Run Flask with SocketIO properly\u001b[39;00m\n\u001b[0;32m---> 51\u001b[0m     socketio\u001b[39m.\u001b[39;49mrun(app, debug\u001b[39m=\u001b[39;49m\u001b[39mTrue\u001b[39;49;00m, host\u001b[39m=\u001b[39;49m\u001b[39m'\u001b[39;49m\u001b[39m127.0.0.1\u001b[39;49m\u001b[39m'\u001b[39;49m, port\u001b[39m=\u001b[39;49m\u001b[39m5000\u001b[39;49m, use_reloader\u001b[39m=\u001b[39;49m\u001b[39mFalse\u001b[39;49;00m)\n",
      "File \u001b[0;32m/Applications/anaconda3/lib/python3.8/site-packages/flask_socketio/__init__.py:726\u001b[0m, in \u001b[0;36mSocketIO.run\u001b[0;34m(self, app, host, port, **kwargs)\u001b[0m\n\u001b[1;32m    724\u001b[0m     run_with_reloader(run_server, \u001b[39m*\u001b[39m\u001b[39m*\u001b[39mreloader_options)\n\u001b[1;32m    725\u001b[0m \u001b[39melse\u001b[39;00m:\n\u001b[0;32m--> 726\u001b[0m     \u001b[39mself\u001b[39;49m\u001b[39m.\u001b[39;49mwsgi_server\u001b[39m.\u001b[39;49mserve_forever()\n",
      "File \u001b[0;32m/Applications/anaconda3/lib/python3.8/site-packages/gevent/baseserver.py:400\u001b[0m, in \u001b[0;36mBaseServer.serve_forever\u001b[0;34m(self, stop_timeout)\u001b[0m\n\u001b[1;32m    398\u001b[0m     \u001b[39mself\u001b[39m\u001b[39m.\u001b[39mstart()\n\u001b[1;32m    399\u001b[0m \u001b[39mtry\u001b[39;00m:\n\u001b[0;32m--> 400\u001b[0m     \u001b[39mself\u001b[39;49m\u001b[39m.\u001b[39;49m_stop_event\u001b[39m.\u001b[39;49mwait()\n\u001b[1;32m    401\u001b[0m \u001b[39mfinally\u001b[39;00m:\n\u001b[1;32m    402\u001b[0m     Greenlet\u001b[39m.\u001b[39mspawn(\u001b[39mself\u001b[39m\u001b[39m.\u001b[39mstop, timeout\u001b[39m=\u001b[39mstop_timeout)\u001b[39m.\u001b[39mjoin()\n",
      "File \u001b[0;32msrc/gevent/event.py:163\u001b[0m, in \u001b[0;36mgevent._gevent_cevent.Event.wait\u001b[0;34m()\u001b[0m\n",
      "File \u001b[0;32msrc/gevent/_abstract_linkable.py:521\u001b[0m, in \u001b[0;36mgevent._gevent_c_abstract_linkable.AbstractLinkable._wait\u001b[0;34m()\u001b[0m\n",
      "File \u001b[0;32msrc/gevent/_abstract_linkable.py:487\u001b[0m, in \u001b[0;36mgevent._gevent_c_abstract_linkable.AbstractLinkable._wait_core\u001b[0;34m()\u001b[0m\n",
      "File \u001b[0;32msrc/gevent/_abstract_linkable.py:490\u001b[0m, in \u001b[0;36mgevent._gevent_c_abstract_linkable.AbstractLinkable._wait_core\u001b[0;34m()\u001b[0m\n",
      "File \u001b[0;32msrc/gevent/_abstract_linkable.py:442\u001b[0m, in \u001b[0;36mgevent._gevent_c_abstract_linkable.AbstractLinkable._AbstractLinkable__wait_to_be_notified\u001b[0;34m()\u001b[0m\n",
      "File \u001b[0;32msrc/gevent/_abstract_linkable.py:451\u001b[0m, in \u001b[0;36mgevent._gevent_c_abstract_linkable.AbstractLinkable._switch_to_hub\u001b[0;34m()\u001b[0m\n",
      "File \u001b[0;32msrc/gevent/_greenlet_primitives.py:61\u001b[0m, in \u001b[0;36mgevent._gevent_c_greenlet_primitives.SwitchOutGreenletWithLoop.switch\u001b[0;34m()\u001b[0m\n",
      "File \u001b[0;32msrc/gevent/_greenlet_primitives.py:65\u001b[0m, in \u001b[0;36mgevent._gevent_c_greenlet_primitives.SwitchOutGreenletWithLoop.switch\u001b[0;34m()\u001b[0m\n",
      "File \u001b[0;32msrc/gevent/_gevent_c_greenlet_primitives.pxd:35\u001b[0m, in \u001b[0;36mgevent._gevent_c_greenlet_primitives._greenlet_switch\u001b[0;34m()\u001b[0m\n",
      "\u001b[0;31mKeyboardInterrupt\u001b[0m: "
     ]
    }
   ],
   "source": [
    "app = Flask(__name__)\n",
    "socketio = SocketIO(app, cors_allowed_origins=\"*\")  # Enable WebSockets\n",
    "\n",
    "latex_equation = None\n",
    "disciplines_data = {}\n",
    "\n",
    "@app.route('/')\n",
    "def index():\n",
    "    return render_template('index.html')\n",
    "\n",
    "@app.route('/process_latex', methods=['POST'])\n",
    "def process_latex():\n",
    "    global latex_equation\n",
    "    try:\n",
    "        data = request.get_json()\n",
    "        latex_equation = data.get('latex', '')\n",
    "        print(f\"Received LaTeX equation: {latex_equation}\")\n",
    "        return jsonify({'status': 'success'})\n",
    "    except Exception as e:\n",
    "        return jsonify({'error': str(e)}), 400\n",
    "\n",
    "@app.route('/get_latex_eq', methods=['GET'])\n",
    "def get_latex_eq():\n",
    "    global latex_equation\n",
    "    return jsonify({'latex_equation': latex_equation})\n",
    "\n",
    "@socketio.on('update_disciplines')\n",
    "def handle_update_disciplines(data):\n",
    "    global disciplines_data\n",
    "    disciplines_data = data\n",
    "    print(f\"Received disciplines data: {disciplines_data}\")\n",
    "\n",
    "    # Emit updated chart data to all connected clients\n",
    "    socketio.emit('update_chart', disciplines_data)\n",
    "\n",
    "@app.route('/get_disciplines', methods=['GET'])\n",
    "def get_disciplines():\n",
    "    global disciplines_data\n",
    "    return jsonify(disciplines_data)\n",
    "\n",
    "@socketio.on('connect')\n",
    "def handle_connect():\n",
    "    print(\"Client connected.\")\n",
    "\n",
    "@socketio.on('disconnect')\n",
    "def handle_disconnect():\n",
    "    print(\"Client disconnected.\")\n",
    "\n",
    "if __name__ == \"__main__\":\n",
    "    socketio.run(app, debug=True, host='127.0.0.1', port=5000, use_reloader=False)"
   ]
  },
  {
   "cell_type": "code",
   "execution_count": null,
   "metadata": {},
   "outputs": [],
   "source": []
  }
 ],
 "metadata": {
  "kernelspec": {
   "display_name": "Python 3.8.8 ('base')",
   "language": "python",
   "name": "python3"
  },
  "language_info": {
   "codemirror_mode": {
    "name": "ipython",
    "version": 3
   },
   "file_extension": ".py",
   "mimetype": "text/x-python",
   "name": "python",
   "nbconvert_exporter": "python",
   "pygments_lexer": "ipython3",
   "version": "3.8.8"
  },
  "orig_nbformat": 4,
  "vscode": {
   "interpreter": {
    "hash": "cd78fef2128015050713e82ca51c6520b11aee7c9ee8df750520bbbc7384cbaa"
   }
  }
 },
 "nbformat": 4,
 "nbformat_minor": 2
}
