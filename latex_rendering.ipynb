{
 "cells": [
  {
   "cell_type": "code",
   "execution_count": 11,
   "metadata": {},
   "outputs": [
    {
     "name": "stdout",
     "output_type": "stream",
     "text": [
      " * Serving Flask app '__main__'\n",
      " * Debug mode: on\n"
     ]
    },
    {
     "name": "stderr",
     "output_type": "stream",
     "text": [
      "WARNING: This is a development server. Do not use it in a production deployment. Use a production WSGI server instead.\n",
      " * Running on http://127.0.0.1:5000\n",
      "Press CTRL+C to quit\n",
      "127.0.0.1 - - [26/Jan/2025 21:04:31] \"GET / HTTP/1.1\" 200 -\n",
      "127.0.0.1 - - [26/Jan/2025 21:04:31] \"GET /static/css/mathquill.css HTTP/1.1\" 304 -\n",
      "127.0.0.1 - - [26/Jan/2025 21:04:31] \"GET /static/js/mathquill.js HTTP/1.1\" 304 -\n",
      "127.0.0.1 - - [26/Jan/2025 21:04:31] \"GET /static/css/font/Symbola.woff2 HTTP/1.1\" 404 -\n",
      "127.0.0.1 - - [26/Jan/2025 21:04:31] \"GET /static/css/font/Symbola.woff HTTP/1.1\" 404 -\n",
      "127.0.0.1 - - [26/Jan/2025 21:04:31] \"GET /static/css/font/Symbola.ttf HTTP/1.1\" 404 -\n",
      "127.0.0.1 - - [26/Jan/2025 21:04:31] \"GET /static/css/font/Symbola.otf HTTP/1.1\" 404 -\n"
     ]
    }
   ],
   "source": [
    "from flask import Flask, render_template, request, jsonify\n",
    "from sympy import Eq\n",
    "from latex2sympy2 import latex2sympy\n",
    "from sympy.printing.mathml import mathml\n",
    "\n",
    "app = Flask(__name__)\n",
    "\n",
    "@app.route('/')\n",
    "def index():\n",
    "    # Render the updated HTML file\n",
    "    return render_template('index.html')\n",
    "\n",
    "@app.route('/process_latex', methods=['POST'])\n",
    "def process_latex():\n",
    "    try:\n",
    "        # Get the LaTeX input from the frontend\n",
    "        data = request.get_json()\n",
    "        latex_equation = data.get('latex', '')\n",
    "\n",
    "        # Convert LaTeX to SymPy expression\n",
    "        sympy_expr = latex2sympy(latex_equation)\n",
    "\n",
    "        # Handle equations with \"=\" explicitly\n",
    "        if \"=\" in latex_equation:\n",
    "            lhs, rhs = latex_equation.split(\"=\")\n",
    "            sympy_expr = Eq(latex2sympy(lhs.strip()), latex2sympy(rhs.strip()))\n",
    "\n",
    "        # Convert the SymPy expression to Content MathML\n",
    "        content_mathml = mathml(sympy_expr, printer='content')\n",
    "        print(content_mathml)\n",
    "\n",
    "        # Return the MathML to the frontend\n",
    "        return jsonify({'contentMathML': content_mathml})\n",
    "\n",
    "    except Exception as e:\n",
    "        # Return an error message in case of failure\n",
    "        return jsonify({'error': str(e)}), 400\n",
    "\n",
    "if __name__ == \"__main__\":\n",
    "    app.run(debug=True, use_reloader=False)"
   ]
  },
  {
   "cell_type": "code",
   "execution_count": null,
   "metadata": {},
   "outputs": [],
   "source": []
  }
 ],
 "metadata": {
  "kernelspec": {
   "display_name": "Python 3.8.8 ('base')",
   "language": "python",
   "name": "python3"
  },
  "language_info": {
   "codemirror_mode": {
    "name": "ipython",
    "version": 3
   },
   "file_extension": ".py",
   "mimetype": "text/x-python",
   "name": "python",
   "nbconvert_exporter": "python",
   "pygments_lexer": "ipython3",
   "version": "3.8.8"
  },
  "orig_nbformat": 4,
  "vscode": {
   "interpreter": {
    "hash": "cd78fef2128015050713e82ca51c6520b11aee7c9ee8df750520bbbc7384cbaa"
   }
  }
 },
 "nbformat": 4,
 "nbformat_minor": 2
}
