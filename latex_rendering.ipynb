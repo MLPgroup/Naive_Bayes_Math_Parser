{
 "cells": [
  {
   "cell_type": "code",
   "execution_count": 1,
   "metadata": {},
   "outputs": [],
   "source": [
    "from flask import Flask, render_template, request, jsonify"
   ]
  },
  {
   "cell_type": "code",
   "execution_count": 21,
   "metadata": {},
   "outputs": [
    {
     "name": "stdout",
     "output_type": "stream",
     "text": [
      " * Serving Flask app '__main__'\n",
      " * Debug mode: on\n"
     ]
    },
    {
     "name": "stderr",
     "output_type": "stream",
     "text": [
      "WARNING: This is a development server. Do not use it in a production deployment. Use a production WSGI server instead.\n",
      " * Running on http://127.0.0.1:5000\n",
      "Press CTRL+C to quit\n",
      "127.0.0.1 - - [30/Jan/2025 13:04:51] \"GET / HTTP/1.1\" 200 -\n",
      "127.0.0.1 - - [30/Jan/2025 13:04:51] \"GET /static/css/mathquill.css HTTP/1.1\" 304 -\n",
      "127.0.0.1 - - [30/Jan/2025 13:04:51] \"GET /static/js/mathquill.js HTTP/1.1\" 304 -\n",
      "127.0.0.1 - - [30/Jan/2025 13:04:52] \"GET /static/css/font/Symbola.woff2 HTTP/1.1\" 404 -\n",
      "127.0.0.1 - - [30/Jan/2025 13:04:52] \"GET /static/css/font/Symbola.woff HTTP/1.1\" 404 -\n",
      "127.0.0.1 - - [30/Jan/2025 13:04:52] \"GET /static/css/font/Symbola.ttf HTTP/1.1\" 404 -\n",
      "127.0.0.1 - - [30/Jan/2025 13:04:52] \"GET /static/css/font/Symbola.otf HTTP/1.1\" 404 -\n"
     ]
    },
    {
     "name": "stdout",
     "output_type": "stream",
     "text": [
      "S\\left(x\\right)=\\int_0^x\\sin\\left(t^2\\right)dt\n"
     ]
    },
    {
     "name": "stderr",
     "output_type": "stream",
     "text": [
      "127.0.0.1 - - [30/Jan/2025 13:05:36] \"POST /process_latex HTTP/1.1\" 500 -\n",
      "Traceback (most recent call last):\n",
      "  File \"/Applications/anaconda3/lib/python3.8/site-packages/flask/app.py\", line 1498, in __call__\n",
      "    return self.wsgi_app(environ, start_response)\n",
      "  File \"/Applications/anaconda3/lib/python3.8/site-packages/flask/app.py\", line 1476, in wsgi_app\n",
      "    response = self.handle_exception(e)\n",
      "  File \"/Applications/anaconda3/lib/python3.8/site-packages/flask/app.py\", line 1473, in wsgi_app\n",
      "    response = self.full_dispatch_request()\n",
      "  File \"/Applications/anaconda3/lib/python3.8/site-packages/flask/app.py\", line 883, in full_dispatch_request\n",
      "    return self.finalize_request(rv)\n",
      "  File \"/Applications/anaconda3/lib/python3.8/site-packages/flask/app.py\", line 902, in finalize_request\n",
      "    response = self.make_response(rv)\n",
      "  File \"/Applications/anaconda3/lib/python3.8/site-packages/flask/app.py\", line 1174, in make_response\n",
      "    raise TypeError(\n",
      "TypeError: The view function for 'process_latex' did not return a valid response. The function either returned None or ended without a return statement.\n",
      "127.0.0.1 - - [30/Jan/2025 13:05:56] \"GET /get_latex_eq HTTP/1.1\" 200 -\n"
     ]
    }
   ],
   "source": [
    "app = Flask(__name__)\n",
    "\n",
    "latex_equation = None\n",
    "\n",
    "@app.route('/')\n",
    "def index():\n",
    "    # Render the updated HTML file\n",
    "    return render_template('index.html')\n",
    "\n",
    "@app.route('/process_latex', methods=['POST'])\n",
    "def process_latex():\n",
    "    global latex_equation\n",
    "    try:\n",
    "        # Get the LaTeX input from the frontend\n",
    "        data = request.get_json()\n",
    "        latex_equation = data.get('latex', '')\n",
    "        print(latex_equation)\n",
    "\n",
    "        # Handle equations with \"=\" explicitly\n",
    "        # if \"=\" in latex_equation:\n",
    "        #     lhs, rhs = latex_equation.split(\"=\")\n",
    "        #     sympy_expr = Eq(latex2sympy(lhs.strip()), latex2sympy(rhs.strip()))\n",
    "\n",
    "        # # Convert the SymPy expression to Content MathML\n",
    "        # content_mathml = mathml(sympy_expr, printer='content')\n",
    "\n",
    "        # Return the MathML to the frontend\n",
    "        # return jsonify({'contentMathML': content_mathml})\n",
    "\n",
    "    except Exception as e:\n",
    "        # Return an error message in case of failure\n",
    "        return jsonify({'error': str(e)}), 400\n",
    "\n",
    "@app.route('/get_latex_eq', methods=['GET'])\n",
    "def get_latex_eq():\n",
    "    # Return the global variable value\n",
    "    global latex_equation\n",
    "    return jsonify({'latex_equation': latex_equation})\n",
    "\n",
    "if __name__ == \"__main__\":\n",
    "    app.run(debug=True, use_reloader=False)"
   ]
  }
 ],
 "metadata": {
  "kernelspec": {
   "display_name": "Python 3.8.8 ('base')",
   "language": "python",
   "name": "python3"
  },
  "language_info": {
   "codemirror_mode": {
    "name": "ipython",
    "version": 3
   },
   "file_extension": ".py",
   "mimetype": "text/x-python",
   "name": "python",
   "nbconvert_exporter": "python",
   "pygments_lexer": "ipython3",
   "version": "3.8.8"
  },
  "orig_nbformat": 4,
  "vscode": {
   "interpreter": {
    "hash": "cd78fef2128015050713e82ca51c6520b11aee7c9ee8df750520bbbc7384cbaa"
   }
  }
 },
 "nbformat": 4,
 "nbformat_minor": 2
}
