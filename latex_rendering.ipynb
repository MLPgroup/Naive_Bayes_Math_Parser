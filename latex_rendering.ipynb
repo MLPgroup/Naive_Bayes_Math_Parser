{
 "cells": [
  {
   "cell_type": "code",
   "execution_count": 13,
   "metadata": {},
   "outputs": [
    {
     "name": "stdout",
     "output_type": "stream",
     "text": [
      " * Serving Flask app '__main__'\n",
      " * Debug mode: on\n"
     ]
    },
    {
     "name": "stderr",
     "output_type": "stream",
     "text": [
      "WARNING: This is a development server. Do not use it in a production deployment. Use a production WSGI server instead.\n",
      " * Running on http://127.0.0.1:5000\n",
      "Press CTRL+C to quit\n"
     ]
    }
   ],
   "source": [
    "from flask import Flask, render_template, request, jsonify\n",
    "import json\n",
    "from sympy import Eq\n",
    "from latex2sympy2 import latex2sympy\n",
    "from sympy.printing.mathml import mathml\n",
    "\n",
    "app = Flask(__name__)\n",
    "\n",
    "# Example `inverted_articles` dictionary for demonstration\n",
    "inverted_articles = {\n",
    "    \"Function1\": {\n",
    "        \"Category1\": [\"Article1.html\", \"Article2.html\"],\n",
    "        \"Category2\": [\"Article3.html\"]\n",
    "    },\n",
    "    \"Function2\": {\n",
    "        \"Category3\": [\"Article4.html\"],\n",
    "        \"Category4\": [\"Article5.html\", \"Article6.html\"]\n",
    "    }\n",
    "}\n",
    "\n",
    "@app.route('/')\n",
    "def index():\n",
    "    return render_template('index.html', inverted_articles=json.dumps(inverted_articles))\n",
    "\n",
    "@app.route('/data')\n",
    "def get_data():\n",
    "    return jsonify(inverted_articles)\n",
    "\n",
    "@app.route('/process_latex', methods=['POST'])\n",
    "def process_latex():\n",
    "    try:\n",
    "        data = request.get_json()\n",
    "        latex_equation = data.get('latex', '')\n",
    "\n",
    "        # Convert LaTeX to SymPy\n",
    "        sympy_expr = latex2sympy(latex_equation)\n",
    "\n",
    "        if \"=\" in latex_equation:\n",
    "            # Split the left-hand side and right-hand side, and create a SymPy equation\n",
    "            lhs, rhs = latex_equation.split(\"=\")\n",
    "            sympy_expr = Eq(latex2sympy(lhs.strip()),latex2sympy(rhs.strip()))\n",
    "\n",
    "        # Convert SymPy to ContentMathML\n",
    "        content_mathml = mathml(sympy_expr, printer='content')\n",
    "        print(content_mathml)\n",
    "        return jsonify({'contentMathML': content_mathml})\n",
    "    except Exception as e:\n",
    "        return jsonify({'error': str(e)}), 400\n",
    "\n",
    "if __name__ == \"__main__\":\n",
    "    app.run(debug=True, use_reloader=False)"
   ]
  },
  {
   "cell_type": "code",
   "execution_count": null,
   "metadata": {},
   "outputs": [],
   "source": []
  }
 ],
 "metadata": {
  "kernelspec": {
   "display_name": "Python 3.8.8 ('base')",
   "language": "python",
   "name": "python3"
  },
  "language_info": {
   "codemirror_mode": {
    "name": "ipython",
    "version": 3
   },
   "file_extension": ".py",
   "mimetype": "text/x-python",
   "name": "python",
   "nbconvert_exporter": "python",
   "pygments_lexer": "ipython3",
   "version": "3.8.8"
  },
  "orig_nbformat": 4,
  "vscode": {
   "interpreter": {
    "hash": "cd78fef2128015050713e82ca51c6520b11aee7c9ee8df750520bbbc7384cbaa"
   }
  }
 },
 "nbformat": 4,
 "nbformat_minor": 2
}
