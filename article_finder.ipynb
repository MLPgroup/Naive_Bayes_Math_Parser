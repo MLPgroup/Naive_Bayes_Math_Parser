{
 "cells": [
  {
   "cell_type": "code",
   "execution_count": 11,
   "metadata": {},
   "outputs": [],
   "source": [
    "from bs4 import BeautifulSoup\n",
    "import os\n",
    "import requests\n",
    "import re"
   ]
  },
  {
   "cell_type": "code",
   "execution_count": 3,
   "metadata": {},
   "outputs": [
    {
     "name": "stdout",
     "output_type": "stream",
     "text": [
      "Fetched stored MathML: S\\left(x\\right)=\\int_0^x\\sin\\left(t^2\\right)dt\n"
     ]
    }
   ],
   "source": [
    "response = requests.get(\"http://127.0.0.1:5000/get_latex_eq\")\n",
    "if response.status_code == 200:\n",
    "    latex_equation = response.json().get(\"latex_equation\")\n",
    "    print(\"Fetched stored MathML:\", latex_equation)\n",
    "else:\n",
    "    print(\"Error fetching stored MathML\")"
   ]
  },
  {
   "cell_type": "code",
   "execution_count": 4,
   "metadata": {},
   "outputs": [
    {
     "name": "stdout",
     "output_type": "stream",
     "text": [
      "<class 'str'>\n"
     ]
    }
   ],
   "source": [
    "print(type(latex_equation))"
   ]
  },
  {
   "cell_type": "code",
   "execution_count": 5,
   "metadata": {},
   "outputs": [
    {
     "name": "stdout",
     "output_type": "stream",
     "text": [
      "<math xmlns=\"http://www.w3.org/1998/Math/MathML\" alttext=\"S\\left(x\\right)=\\int_{0}^{x}\\sin\\left(t^{2}\\right)dt\" display=\"block\">\n",
      "  <apply>\n",
      "    <eq/>\n",
      "    <apply>\n",
      "      <times/>\n",
      "      <ci>𝑆</ci>\n",
      "      <ci>𝑥</ci>\n",
      "    </apply>\n",
      "    <apply>\n",
      "      <apply>\n",
      "        <csymbol cd=\"ambiguous\">superscript</csymbol>\n",
      "        <apply>\n",
      "          <csymbol cd=\"ambiguous\">subscript</csymbol>\n",
      "          <int/>\n",
      "          <cn type=\"integer\">0</cn>\n",
      "        </apply>\n",
      "        <ci>𝑥</ci>\n",
      "      </apply>\n",
      "      <apply>\n",
      "        <times/>\n",
      "        <apply>\n",
      "          <sin/>\n",
      "          <apply>\n",
      "            <csymbol cd=\"ambiguous\">superscript</csymbol>\n",
      "            <ci>𝑡</ci>\n",
      "            <cn type=\"integer\">2</cn>\n",
      "          </apply>\n",
      "        </apply>\n",
      "        <apply>\n",
      "          <csymbol cd=\"latexml\">differential-d</csymbol>\n",
      "          <ci>𝑡</ci>\n",
      "        </apply>\n",
      "      </apply>\n",
      "    </apply>\n",
      "  </apply>\n",
      "</math>\n",
      "\n"
     ]
    }
   ],
   "source": [
    "import subprocess\n",
    "\n",
    "def convert_latex_to_mathml(latex_equation):\n",
    "    try:\n",
    "        process = subprocess.run(\n",
    "            [\"latexmlmath\", \"--contentmathml=-\", latex_equation],  # Output directly to terminal\n",
    "            text=True,\n",
    "            capture_output=True,\n",
    "            check=True\n",
    "        )\n",
    "        return process.stdout  # Return the MathML directly\n",
    "\n",
    "    except subprocess.CalledProcessError as e:\n",
    "        print(f\"Error running LateXML: {e.stderr}\")\n",
    "        return None\n",
    "\n",
    "mathml_result = convert_latex_to_mathml(latex_equation)\n",
    "print(mathml_result)  # Directly prints the Content MathML"
   ]
  },
  {
   "cell_type": "code",
   "execution_count": 18,
   "metadata": {},
   "outputs": [
    {
     "name": "stdout",
     "output_type": "stream",
     "text": [
      "<eq></eq>\n",
      "<apply>\n",
      "<times></times>\n",
      "<ci>𝑆</ci>\n",
      "<ci>𝑥</ci>\n",
      "</apply>\n"
     ]
    }
   ],
   "source": [
    "from bs4 import BeautifulSoup\n",
    "\n",
    "def expand_self_closing_tags(soup):\n",
    "    \"\"\"\n",
    "    Ensures all self-closing tags in the given BeautifulSoup object\n",
    "    are explicitly converted into open/close tags.\n",
    "    \"\"\"\n",
    "    for tag in soup.find_all():\n",
    "        if not tag.contents and tag.name not in [\"ci\", \"cn\"]:  # Keep <ci> & <cn> self-closing\n",
    "            tag.string = \"\"  # Add empty content to force open/close format\n",
    "\n",
    "def extract_core_mathml(mathml_str):\n",
    "    \"\"\"\n",
    "    Extracts and retains only the <eq/> and the first <apply> from the Content MathML,\n",
    "    ensuring all self-closing tags are expanded to full open/close tags.\n",
    "\n",
    "    Args:\n",
    "        mathml_str (str): The Content MathML input as a string.\n",
    "\n",
    "    Returns:\n",
    "        str: The modified Content MathML containing only the equation core.\n",
    "    \"\"\"\n",
    "    # Parse the MathML string\n",
    "    soup = BeautifulSoup(mathml_str, \"xml\")\n",
    "\n",
    "    # Find the <eq/> tag\n",
    "    eq_tag = soup.find(\"eq\")\n",
    "    \n",
    "    if eq_tag:\n",
    "        # Find the first <apply> tag after <eq/>\n",
    "        first_apply = eq_tag.find_next_sibling(\"apply\")\n",
    "\n",
    "        # Ensure all self-closing tags are expanded\n",
    "        expand_self_closing_tags(eq_tag)\n",
    "        extracted_part = str(eq_tag)\n",
    "        extracted_part = re.sub(r\"<(\\w+)([^>/]*)/>\", r\"<\\1\\2></\\1>\", extracted_part)  # Fix <eq/>\n",
    "\n",
    "        if first_apply:\n",
    "            expand_self_closing_tags(first_apply)\n",
    "            extracted_part += \"\\n\" + str(first_apply)\n",
    "\n",
    "        return extracted_part.strip()  # Clean and return result\n",
    "\n",
    "    return None  # Return None if <eq/> is not found\n",
    "\n",
    "filtered_mathml = extract_core_mathml(mathml_result)\n",
    "print(filtered_mathml)"
   ]
  },
  {
   "cell_type": "code",
   "execution_count": 13,
   "metadata": {},
   "outputs": [
    {
     "name": "stdout",
     "output_type": "stream",
     "text": [
      "['wpmath0000002', 'wpmath0000003', 'wpmath0000004', 'wpmath0000005', 'wpmath0000006', 'wpmath0000007', 'wpmath0000008', 'wpmath0000009', 'wpmath0000010', 'wpmath0000011', 'wpmath0000012', 'wpmath0000013', 'wpmath0000014', 'wpmath0000015', 'wpmath0000016']\n"
     ]
    }
   ],
   "source": [
    "folder_names = [\"wpmath00000\"+ \"0\" + str(f_name) if f_name < 10 else \"wpmath00000\" + str(f_name) for f_name in range(2, 17)]\n",
    "base_path = \"/Users/atharvajain/Downloads/NTCIR-12_MathIR_Wikipedia_Corpus/MathTagArticles\" # Change Base path based on the location of the directory\n",
    "print(folder_names)"
   ]
  },
  {
   "cell_type": "code",
   "execution_count": 14,
   "metadata": {},
   "outputs": [
    {
     "ename": "KeyboardInterrupt",
     "evalue": "",
     "output_type": "error",
     "traceback": [
      "\u001b[0;31m---------------------------------------------------------------------------\u001b[0m",
      "\u001b[0;31mKeyboardInterrupt\u001b[0m                         Traceback (most recent call last)",
      "Cell \u001b[0;32mIn[14], line 58\u001b[0m\n\u001b[1;32m     55\u001b[0m     \u001b[39mreturn\u001b[39;00m matching_articles\n\u001b[1;32m     57\u001b[0m \u001b[39m# Call the function with content_mathml\u001b[39;00m\n\u001b[0;32m---> 58\u001b[0m matching_articles \u001b[39m=\u001b[39m corpus_find_articles(folder_names, base_path, content_mathml)\n\u001b[1;32m     60\u001b[0m \u001b[39m# Print results\u001b[39;00m\n\u001b[1;32m     61\u001b[0m \u001b[39mprint\u001b[39m(\u001b[39m\"\u001b[39m\u001b[39mArticles containing the input Content MathML:\u001b[39m\u001b[39m\"\u001b[39m)\n",
      "Cell \u001b[0;32mIn[14], line 46\u001b[0m, in \u001b[0;36mcorpus_find_articles\u001b[0;34m(folder_names, base_path, content_mathml)\u001b[0m\n\u001b[1;32m     44\u001b[0m \u001b[39m# Check if any of the MathML elements in the article match `content_mathml`\u001b[39;00m\n\u001b[1;32m     45\u001b[0m \u001b[39mfor\u001b[39;00m math_element \u001b[39min\u001b[39;00m elements_with_mathml:\n\u001b[0;32m---> 46\u001b[0m     math_content \u001b[39m=\u001b[39m math_element\u001b[39m.\u001b[39;49mprettify()  \u001b[39m# Convert to formatted string\u001b[39;00m\n\u001b[1;32m     48\u001b[0m     \u001b[39mif\u001b[39;00m formatted_content_mathml \u001b[39m==\u001b[39m math_content:\n\u001b[1;32m     49\u001b[0m         matching_articles\u001b[39m.\u001b[39mappend(article_name)\n",
      "File \u001b[0;32m/Applications/anaconda3/lib/python3.8/site-packages/bs4/element.py:1921\u001b[0m, in \u001b[0;36mTag.prettify\u001b[0;34m(self, encoding, formatter)\u001b[0m\n\u001b[1;32m   1911\u001b[0m \u001b[39m\u001b[39m\u001b[39m\"\"\"Pretty-print this PageElement as a string.\u001b[39;00m\n\u001b[1;32m   1912\u001b[0m \n\u001b[1;32m   1913\u001b[0m \u001b[39m:param encoding: The eventual encoding of the string. If this is None,\u001b[39;00m\n\u001b[0;32m   (...)\u001b[0m\n\u001b[1;32m   1918\u001b[0m \u001b[39m    (otherwise).\u001b[39;00m\n\u001b[1;32m   1919\u001b[0m \u001b[39m\"\"\"\u001b[39;00m\n\u001b[1;32m   1920\u001b[0m \u001b[39mif\u001b[39;00m encoding \u001b[39mis\u001b[39;00m \u001b[39mNone\u001b[39;00m:\n\u001b[0;32m-> 1921\u001b[0m     \u001b[39mreturn\u001b[39;00m \u001b[39mself\u001b[39;49m\u001b[39m.\u001b[39;49mdecode(\u001b[39mTrue\u001b[39;49;00m, formatter\u001b[39m=\u001b[39;49mformatter)\n\u001b[1;32m   1922\u001b[0m \u001b[39melse\u001b[39;00m:\n\u001b[1;32m   1923\u001b[0m     \u001b[39mreturn\u001b[39;00m \u001b[39mself\u001b[39m\u001b[39m.\u001b[39mencode(encoding, \u001b[39mTrue\u001b[39;00m, formatter\u001b[39m=\u001b[39mformatter)\n",
      "File \u001b[0;32m/Applications/anaconda3/lib/python3.8/site-packages/bs4/element.py:1767\u001b[0m, in \u001b[0;36mTag.decode\u001b[0;34m(self, indent_level, eventual_encoding, formatter, iterator)\u001b[0m\n\u001b[1;32m   1765\u001b[0m     \u001b[39mif\u001b[39;00m \u001b[39misinstance\u001b[39m(element, NavigableString):\n\u001b[1;32m   1766\u001b[0m         piece \u001b[39m=\u001b[39m piece\u001b[39m.\u001b[39mstrip()\n\u001b[0;32m-> 1767\u001b[0m     \u001b[39mif\u001b[39;00m piece:\n\u001b[1;32m   1768\u001b[0m         piece \u001b[39m=\u001b[39m \u001b[39mself\u001b[39m\u001b[39m.\u001b[39m_indent_string(\n\u001b[1;32m   1769\u001b[0m             piece, indent_level, formatter,\n\u001b[1;32m   1770\u001b[0m             indent_before, indent_after\n\u001b[1;32m   1771\u001b[0m         )\n\u001b[1;32m   1772\u001b[0m \u001b[39mif\u001b[39;00m event \u001b[39m==\u001b[39m Tag\u001b[39m.\u001b[39mSTART_ELEMENT_EVENT:\n",
      "\u001b[0;31mKeyboardInterrupt\u001b[0m: "
     ]
    }
   ],
   "source": [
    "import os\n",
    "from bs4 import BeautifulSoup\n",
    "\n",
    "def corpus_find_articles(folder_names, base_path, content_mathml):\n",
    "    \"\"\"\n",
    "    Search for HTML articles containing the given Content MathML expression.\n",
    "\n",
    "    Args:\n",
    "        folder_names (list): A list of folder names containing HTML articles.\n",
    "        base_path (str): The base path where the folders are located.\n",
    "        content_mathml (str): The Content MathML representation of the input equation.\n",
    "\n",
    "    Returns:\n",
    "        list: A list of article names where the given MathML expression is found.\n",
    "    \"\"\"\n",
    "\n",
    "    # List to store articles that contain the Content MathML expression\n",
    "    matching_articles = []\n",
    "    \n",
    "    # Convert `content_mathml` to match BeautifulSoup's formatting\n",
    "    content_soup = BeautifulSoup(content_mathml, 'html.parser')\n",
    "    formatted_content_mathml = content_soup.prettify()\n",
    "\n",
    "    # Process each folder\n",
    "    for folder_name in folder_names:\n",
    "        folder_path = os.path.join(base_path, folder_name)\n",
    "        \n",
    "        # Iterate over all files in the folder\n",
    "        for article_name in os.listdir(folder_path):\n",
    "            article_path = os.path.join(folder_path, article_name)\n",
    "            \n",
    "            # Skip non-HTML files\n",
    "            if not article_path.endswith('.html'):\n",
    "                continue\n",
    "            \n",
    "            try:\n",
    "                # Parse the HTML file with BeautifulSoup\n",
    "                with open(article_path, 'r', encoding='utf-8') as html_file:\n",
    "                    soup = BeautifulSoup(html_file, 'html.parser')\n",
    "\n",
    "                # Find all MathML `<apply>` elements in the article\n",
    "                elements_with_mathml = soup.find_all('apply')\n",
    "\n",
    "                # Check if any of the MathML elements in the article match `content_mathml`\n",
    "                for math_element in elements_with_mathml:\n",
    "                    math_content = math_element.prettify()  # Convert to formatted string\n",
    "\n",
    "                    if formatted_content_mathml == math_content:\n",
    "                        matching_articles.append(article_name)\n",
    "                        break  # Stop searching once a match is found\n",
    "            \n",
    "            except Exception as e:\n",
    "                print(f\"Error processing file {article_path}: {e}\")\n",
    "    \n",
    "    return matching_articles\n",
    "\n",
    "# Call the function with content_mathml\n",
    "matching_articles = corpus_find_articles(folder_names, base_path, content_mathml)\n",
    "\n",
    "# Print results\n",
    "print(\"Articles containing the input Content MathML:\")\n",
    "print(matching_articles)"
   ]
  },
  {
   "cell_type": "code",
   "execution_count": null,
   "metadata": {},
   "outputs": [],
   "source": []
  }
 ],
 "metadata": {
  "kernelspec": {
   "display_name": "Python 3.8.8 ('base')",
   "language": "python",
   "name": "python3"
  },
  "language_info": {
   "codemirror_mode": {
    "name": "ipython",
    "version": 3
   },
   "file_extension": ".py",
   "mimetype": "text/x-python",
   "name": "python",
   "nbconvert_exporter": "python",
   "pygments_lexer": "ipython3",
   "version": "3.8.8"
  },
  "orig_nbformat": 4,
  "vscode": {
   "interpreter": {
    "hash": "cd78fef2128015050713e82ca51c6520b11aee7c9ee8df750520bbbc7384cbaa"
   }
  }
 },
 "nbformat": 4,
 "nbformat_minor": 2
}
